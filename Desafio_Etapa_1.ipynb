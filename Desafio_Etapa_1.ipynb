{
  "nbformat": 4,
  "nbformat_minor": 0,
  "metadata": {
    "colab": {
      "provenance": []
    },
    "kernelspec": {
      "name": "python3",
      "display_name": "Python 3"
    },
    "language_info": {
      "name": "python"
    }
  },
  "cells": [
    {
      "cell_type": "markdown",
      "source": [
        "# Etapa de pré-processamento"
      ],
      "metadata": {
        "id": "n4uK3rxbv3XN"
      }
    },
    {
      "cell_type": "markdown",
      "source": [
        "Importação das bibliotecas"
      ],
      "metadata": {
        "id": "UYEtwNhtcPjR"
      }
    },
    {
      "cell_type": "code",
      "execution_count": 1,
      "metadata": {
        "id": "4HX3HenmZpd9"
      },
      "outputs": [],
      "source": [
        "import pandas as pd\n",
        "from datetime import datetime"
      ]
    },
    {
      "cell_type": "markdown",
      "source": [
        "Carregar o arquivo"
      ],
      "metadata": {
        "id": "YK4B-dhafiXT"
      }
    },
    {
      "cell_type": "code",
      "source": [
        "file_path = \"/content/DESAFIO ETAPA 1.xlsx\"\n",
        "df = pd.read_excel(file_path)"
      ],
      "metadata": {
        "id": "E7So225wfkuL"
      },
      "execution_count": 2,
      "outputs": []
    },
    {
      "cell_type": "markdown",
      "source": [
        "Padronização de datas (YYYY-MM-DD)"
      ],
      "metadata": {
        "id": "iDuxtDNAt8uf"
      }
    },
    {
      "cell_type": "code",
      "source": [
        "def converter_data(data_str):\n",
        "        try:\n",
        "            # Remover espaços em branco e converter para string\n",
        "            data_str = str(data_str).strip()\n",
        "\n",
        "            # Lista de formatos de data para tentar\n",
        "            formatos = [\n",
        "                '%d/%m/%Y',          # 27/03/2023\n",
        "                '%Y/%m/%d',          # 2023/01/08\n",
        "                '%d/%m/%y',          # 10/05/23\n",
        "                '%Y-%m-%d',          # 2023-05-30\n",
        "                '%d-%m-%Y',          # 16-03-2023\n",
        "                '%Y-%m-%d %H:%M:%S', # 2024-04-19 00:00:00\n",
        "                '%d-%m-%y'           # 01-03-23\n",
        "            ]\n",
        "\n",
        "            for fmt in formatos:\n",
        "                try:\n",
        "                    # Tentar converter para datetime\n",
        "                    data = datetime.strptime(data_str, fmt)\n",
        "                    # Retornar no formato YYYY-MM-DD\n",
        "                    return data.strftime('%Y-%m-%d')\n",
        "                except ValueError:\n",
        "                    continue\n",
        "\n",
        "            # Se nenhum formato funcionar, retornar a data original\n",
        "            return data_str\n",
        "        except:\n",
        "            # Em caso de erro, retornar a data original\n",
        "            return data_str"
      ],
      "metadata": {
        "id": "fPEGL9z4uCxK"
      },
      "execution_count": 3,
      "outputs": []
    },
    {
      "cell_type": "code",
      "source": [
        "# Aplicar a conversão à coluna \"Data Venda\"\n",
        "df['Data Venda'] = df['Data Venda'].astype(str).apply(converter_data)"
      ],
      "metadata": {
        "id": "_Qoj71fvuFol"
      },
      "execution_count": 4,
      "outputs": []
    },
    {
      "cell_type": "markdown",
      "source": [
        "Padronização dos campos de texto e código do cliente"
      ],
      "metadata": {
        "id": "r_ikyZDyuKuN"
      }
    },
    {
      "cell_type": "code",
      "source": [
        "'''\n",
        "df[\"Status Pagamento\"] = df[\"Status Pagamento\"].astype(str).str.strip().str.upper()\n",
        "'''\n",
        "colunas_texto = [\"Status Pagamento\", \"Região\", \"Produto\", \"Representante\", \"Código Cliente\"]\n",
        "for coluna in colunas_texto:\n",
        "    df[coluna] = df[coluna].astype(str).str.strip().str.upper()"
      ],
      "metadata": {
        "id": "pM_inmY-uLR1"
      },
      "execution_count": 5,
      "outputs": []
    },
    {
      "cell_type": "markdown",
      "source": [
        "Conversão correta dos campos de valores (Valor Venda, Comissão) para numérico (float)"
      ],
      "metadata": {
        "id": "zPc0kj8GuTUm"
      }
    },
    {
      "cell_type": "code",
      "source": [
        "def limpar_valor(v):\n",
        "    if pd.isna(v):\n",
        "        return np.nan\n",
        "    v = str(v)\n",
        "    v = v.replace(\"R$\", \"\").replace(\" \", \"\").replace(\".\", \"\").replace(\",\", \".\").replace(\"%\", \"\")\n",
        "    try:\n",
        "        return float(v)\n",
        "    except:\n",
        "        return np.nan"
      ],
      "metadata": {
        "id": "7IBhBTBluUMB"
      },
      "execution_count": 6,
      "outputs": []
    },
    {
      "cell_type": "code",
      "source": [
        "# Aplicar a conversão à coluna \"Data Venda\"\n",
        "df[\"Valor Venda\"] = df[\"Valor Venda\"].apply(limpar_valor)\n",
        "df[\"Comissão\"] = df[\"Comissão\"].apply(limpar_valor)\n",
        "\n",
        "  # Se comissão > 1, é percentual e deve ser convertido para decimal\n",
        "df.loc[df[\"Comissão\"] > 1, \"Comissão\"] = df[\"Comissão\"] / 100"
      ],
      "metadata": {
        "id": "C3DWsYF2uaQC"
      },
      "execution_count": 7,
      "outputs": []
    },
    {
      "cell_type": "markdown",
      "source": [
        "Calcular a coluna Valor Comissão (Valor Venda × Comissão)"
      ],
      "metadata": {
        "id": "w_908DMTuhnk"
      }
    },
    {
      "cell_type": "code",
      "source": [
        "df[\"Valor Comissão\"] = df[\"Valor Venda\"] * df[\"Comissão\"]"
      ],
      "metadata": {
        "id": "LJ9VaV5Vul5M"
      },
      "execution_count": 8,
      "outputs": []
    },
    {
      "cell_type": "markdown",
      "source": [
        "Eliminar duplicidades (ex: vendas idênticas por engano)"
      ],
      "metadata": {
        "id": "bPPNFU8rum58"
      }
    },
    {
      "cell_type": "code",
      "source": [
        "df = df.drop_duplicates()"
      ],
      "metadata": {
        "id": "mWejiYVUuqq-"
      },
      "execution_count": 9,
      "outputs": []
    },
    {
      "cell_type": "code",
      "source": [
        "#Visualizar resultado final\n",
        "print(df.head())"
      ],
      "metadata": {
        "colab": {
          "base_uri": "https://localhost:8080/"
        },
        "id": "v50A_TKEuucI",
        "outputId": "e3983785-ea86-4412-f0a1-d829384ab196"
      },
      "execution_count": 10,
      "outputs": [
        {
          "output_type": "stream",
          "name": "stdout",
          "text": [
            "   Data Venda Representante        Região     Produto  Valor Venda  Comissão  \\\n",
            "0  2023-03-27    JOAO SILVA       SUDESTE     CELULAR       2550.0      0.10   \n",
            "1  2023-01-08      M. SOUZA           SUL    NOTEBOOK       4679.0      0.10   \n",
            "2  2023-05-30    JOÃO SILVA         NORTE  IMPRESSORA       1530.0      0.08   \n",
            "3  2023-05-10      M. SOUZA  CENTRO-OESTE     CELULAR     166600.0      0.08   \n",
            "4  2023-03-28     ANA PAULA       SUDESTE    NOTEBOOK       1265.0      0.10   \n",
            "\n",
            "  Status Pagamento Código Cliente  Valor Comissão  \n",
            "0             PAGO           A594           255.0  \n",
            "1        EM ABERTO           E121           467.9  \n",
            "2        EM ABERTO           A342           122.4  \n",
            "3             PAGO           E925         13328.0  \n",
            "4             PAGO           D888           126.5  \n"
          ]
        }
      ]
    },
    {
      "cell_type": "markdown",
      "source": [
        "Exportação do arquivo tratado"
      ],
      "metadata": {
        "id": "X3b02DR9uv0X"
      }
    },
    {
      "cell_type": "code",
      "source": [
        "df.to_excel(\"dados_tratados.xlsx\", index=False)\n",
        "print(\"Arquivo 'dados_tratados.xlsx' salvo com sucesso!\")"
      ],
      "metadata": {
        "colab": {
          "base_uri": "https://localhost:8080/"
        },
        "id": "MoXal4miu4DA",
        "outputId": "993efdf9-b819-49d3-f34f-987dd0f55cf9"
      },
      "execution_count": 11,
      "outputs": [
        {
          "output_type": "stream",
          "name": "stdout",
          "text": [
            "Arquivo 'dados_tratados.xlsx' salvo com sucesso!\n"
          ]
        }
      ]
    },
    {
      "cell_type": "markdown",
      "source": [
        "# ANÁLISE DE DADOS\n",
        "- Podendo ser em Python, SQL ou Excel.\n",
        "- Total de vendas por representante\n",
        "- Total de comissão por representante\n",
        "- Ticket médio por produto (Valor Total de Vendas / No de Vendas)\n",
        "- Identificação de compras duplicadas (mesmo cliente, valor, data e produto)\n",
        "- Contagem de vendas por status de pagamento\n",
        "- Análise do total de vendas por região\n"
      ],
      "metadata": {
        "id": "rWbAjNIUvnIZ"
      }
    },
    {
      "cell_type": "code",
      "source": [
        "def analisar_vendas(caminho_arquivo, arquivo_saida=\"analise_vendas.xlsx\"):\n",
        "    # 1. Ler dados\n",
        "    df = pd.read_excel(caminho_arquivo)\n",
        "\n",
        "    # 2. Garantir coluna \"Valor Comissão\"\n",
        "    if \"Valor Comissão\" not in df.columns:\n",
        "        df[\"Valor Comissão\"] = df[\"Valor Venda\"] * df[\"Comissão\"]\n",
        "\n",
        "    # 3. Total de vendas por representante\n",
        "    total_vendas_rep = df.groupby(\"Representante\", as_index=False)[\"Valor Venda\"].sum().rename(columns={\"Valor Venda\": \"Total Vendas\"})\n",
        "\n",
        "    # 4. Total de comissão por representante\n",
        "    total_comissao_rep = df.groupby(\"Representante\", as_index=False)[\"Valor Comissão\"].sum().rename(columns={\"Valor Comissão\": \"Total Comissão\"})\n",
        "\n",
        "    # 5. Ticket médio por produto\n",
        "    ticket_medio_prod = df.groupby(\"Produto\", as_index=False)[\"Valor Venda\"].mean().rename(columns={\"Valor Venda\": \"Ticket Médio\"})\n",
        "\n",
        "    # 6. Compras duplicadas\n",
        "    compras_duplicadas = df[df.duplicated(subset=[\"Código Cliente\", \"Valor Venda\", \"Data Venda\", \"Produto\"], keep=False)]\n",
        "\n",
        "    # 7. Contagem de vendas por status de pagamento\n",
        "    contagem_status = df[\"Status Pagamento\"].value_counts().reset_index()\n",
        "    contagem_status.columns = [\"Status Pagamento\", \"Quantidade\"]\n",
        "\n",
        "    # 8. Total de vendas por região\n",
        "    total_vendas_regiao = df.groupby(\"Região\", as_index=False)[\"Valor Venda\"].sum().rename(columns={\"Valor Venda\": \"Total Vendas Região\"})\n",
        "\n",
        "    # 9. Exportar para Excel com abas separadas\n",
        "    with pd.ExcelWriter(arquivo_saida) as writer:\n",
        "        for df, sheet in [\n",
        "            (total_vendas_rep, \"Total Vendas Representante\"),\n",
        "            (total_comissao_rep, \"Total Comissão Representante\"),\n",
        "            (ticket_medio_prod, \"Ticket Médio Produto\"),\n",
        "            (compras_duplicadas, \"Compras Duplicadas\"),\n",
        "            (contagem_status, \"Contagem Status\"),\n",
        "            (total_vendas_regiao, \"Total Vendas Região\")\n",
        "        ]:\n",
        "            df.to_excel(writer, sheet_name=sheet, index=False)\n",
        "\n",
        "    print(f\"Arquivo '{arquivo_saida}' gerado com sucesso!\")\n",
        "\n",
        "analisar_vendas(\"dados_tratados.xlsx\", \"analise_vendas.xlsx\")"
      ],
      "metadata": {
        "colab": {
          "base_uri": "https://localhost:8080/"
        },
        "id": "xbz1LKWL4-7H",
        "outputId": "da3616b0-79ba-4f99-c403-72379b5edc40"
      },
      "execution_count": 12,
      "outputs": [
        {
          "output_type": "stream",
          "name": "stdout",
          "text": [
            "Arquivo 'analise_vendas.xlsx' gerado com sucesso!\n"
          ]
        }
      ]
    }
  ]
}